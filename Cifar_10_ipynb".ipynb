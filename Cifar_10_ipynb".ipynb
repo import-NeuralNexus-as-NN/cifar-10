{
  "nbformat": 4,
  "nbformat_minor": 0,
  "metadata": {
    "colab": {
      "provenance": [],
      "gpuType": "T4",
      "include_colab_link": true
    },
    "kernelspec": {
      "name": "python3",
      "display_name": "Python 3"
    },
    "language_info": {
      "name": "python"
    },
    "accelerator": "GPU"
  },
  "cells": [
    {
      "cell_type": "markdown",
      "metadata": {
        "id": "view-in-github",
        "colab_type": "text"
      },
      "source": [
        "<a href=\"https://colab.research.google.com/github/import-NeuralNexus-as-NN/cifar-10/blob/main/Cifar_10_ipynb%22.ipynb\" target=\"_parent\"><img src=\"https://colab.research.google.com/assets/colab-badge.svg\" alt=\"Open In Colab\"/></a>"
      ]
    },
    {
      "cell_type": "markdown",
      "source": [
        "# Установка зависимостей"
      ],
      "metadata": {
        "id": "MOSWSDzNtCtw"
      }
    },
    {
      "cell_type": "code",
      "source": [
        "!pip install keras-tuner silence_tensorflow patool"
      ],
      "metadata": {
        "id": "Z6KkOseFQaX_"
      },
      "execution_count": null,
      "outputs": []
    },
    {
      "cell_type": "code",
      "source": [
        "import numpy as np\n",
        "import silence_tensorflow.auto\n",
        "import matplotlib.pyplot as plt\n",
        "from keras.datasets import cifar10\n",
        "from keras.models import Sequential\n",
        "from keras.layers import Dense, Flatten\n",
        "from keras.layers import Dropout\n",
        "from keras.layers import Conv2D, MaxPooling2D\n",
        "from tensorflow.keras.utils import to_categorical\n",
        "from keras.preprocessing import image\n",
        "\n",
        "from kerastuner.tuners import RandomSearch\n",
        "from kerastuner.engine.hyperparameters import HyperParameters\n",
        "from keras.models import load_model\n",
        "\n",
        "import requests\n",
        "from urllib.parse import urlencode\n",
        "import patoolib\n",
        "import os\n",
        "\n"
      ],
      "metadata": {
        "id": "Z36yTIzZtgpk"
      },
      "execution_count": 8,
      "outputs": []
    },
    {
      "cell_type": "code",
      "source": [
        "#Функция для отображения картинок\n",
        "def plot_sample(X, y, index):\n",
        "    plt.figure(figsize = (15,2))\n",
        "    plt.imshow(X[index])\n",
        "    plt.xlabel(classes[y[index]])"
      ],
      "metadata": {
        "id": "wX8Palv7un3a"
      },
      "execution_count": 3,
      "outputs": []
    },
    {
      "cell_type": "markdown",
      "source": [
        "# Загрузка и нормализация данных"
      ],
      "metadata": {
        "id": "fXB-RAcHtimX"
      }
    },
    {
      "cell_type": "code",
      "source": [
        "# Загрузка данных\n",
        "(X_train, y_train), (X_test, y_test) = cifar10.load_data()\n",
        "\n",
        "# Названия классов из набора данных CIFAR-10\n",
        "classes = ['самолет', 'автомобиль', 'птица', 'кот', 'олень', 'собака', 'лягушка', 'лошадь', 'корабль', 'грузовик']\n",
        "\n",
        "y_train = y_train.reshape(-1,)\n",
        "y_test = y_test.reshape(-1,)\n",
        "\n",
        "# Нормализация данных\n",
        "X_train = X_train / 255.0\n",
        "X_test = X_test / 255.0\n"
      ],
      "metadata": {
        "colab": {
          "base_uri": "https://localhost:8080/"
        },
        "id": "XS9iECTQtoew",
        "outputId": "2fd1008c-9404-4ed5-ac80-93ce191b8e39"
      },
      "execution_count": 9,
      "outputs": [
        {
          "output_type": "stream",
          "name": "stdout",
          "text": [
            "Downloading data from https://www.cs.toronto.edu/~kriz/cifar-10-python.tar.gz\n",
            "170498071/170498071 [==============================] - 5s 0us/step\n"
          ]
        }
      ]
    },
    {
      "cell_type": "markdown",
      "source": [
        "# Задаём архитектуру нейронной сети, запускаем RandomSearch tuner, который будет искать оптимальные гиперпараметры модели (По факту обучается просто много нейронок с разными параметрами, и в итоге мы получаем самую точную)"
      ],
      "metadata": {
        "id": "s0Cm6N0Otqlx"
      }
    },
    {
      "cell_type": "code",
      "source": [
        "# Создание базовой модели\n",
        "def create_base_model(hp):\n",
        "    model = Sequential()\n",
        "\n",
        "    # Первый сверточный слой\n",
        "    model.add(Conv2D(filters=hp.Int('conv1_filters', min_value=64, max_value=128, step=32),\n",
        "                     kernel_size=(3, 3),\n",
        "                     activation='relu',\n",
        "                     input_shape=(32, 32, 3)))\n",
        "\n",
        "    model.add(MaxPooling2D(pool_size=(2, 2)))\n",
        "\n",
        "    # Второй сверточный слой\n",
        "    model.add(Conv2D(filters=hp.Int('conv2_filters', min_value=128, max_value=256, step=64),\n",
        "                     kernel_size=(3, 3),\n",
        "                     activation='relu'))\n",
        "\n",
        "    model.add(MaxPooling2D(pool_size=(2, 2)))\n",
        "\n",
        "    model.add(Flatten())\n",
        "\n",
        "    # Полносвязные слои\n",
        "    model.add(Dense(units=hp.Int('dense_units', min_value=128, max_value=256, step=64),\n",
        "                    activation='relu'))\n",
        "    model.add(Dropout(0.5))\n",
        "\n",
        "    model.add(Dense(10, activation='softmax'))\n",
        "\n",
        "\n",
        "  # Компиляция модели\n",
        "    model.compile(loss = 'sparse_categorical_crossentropy', optimizer='adam', metrics=['accuracy'])\n",
        "\n",
        "    return model\n",
        "\n",
        "# Инициализация RandomSearch tuner\n",
        "tuner = RandomSearch(\n",
        "    create_base_model,\n",
        "    objective='val_accuracy',\n",
        "    max_trials=24,  # Количество различных комбинаций гиперпараметров, которые будет проверять tuner\n",
        "    executions_per_trial=1,  # Количество обучений для каждой комбинации гиперпараметров\n",
        "    directory='tuner_dir',\n",
        "    project_name='cifar10_tuning'\n",
        ")\n",
        "\n",
        "# Подгонка tuner к данным\n",
        "tuner.search(X_train, y_train, epochs=10, validation_split=0.2)\n",
        "\n",
        "# Получение оптимальных гиперпараметров\n",
        "best_hp = tuner.oracle.get_best_trials(num_trials=1)[0].hyperparameters.values\n",
        "print(\"Best Hyperparameters:\", best_hp)\n",
        "\n",
        "# Получение оптимальной модели\n",
        "best_model = tuner.get_best_models(num_models=1)[0]\n",
        "\n",
        "# Оценка модели на тестовых данных\n",
        "test_loss, test_acc = best_model.evaluate(X_test, y_test)\n",
        "print(\"Test Accuracy:\", test_acc)\n",
        "\n",
        "\n",
        "best_model.save(\"cifar10_model.h5\")\n",
        "print(\"Модель сохранена успешно.\")"
      ],
      "metadata": {
        "id": "_dCA27MjPhnZ"
      },
      "execution_count": null,
      "outputs": []
    },
    {
      "cell_type": "markdown",
      "source": [
        "# Качаем все модели из которых ищется лучшая (Если лень ждать обучение)"
      ],
      "metadata": {
        "id": "CLD4xrrNxRV7"
      }
    },
    {
      "cell_type": "code",
      "source": [
        "base_url = 'https://cloud-api.yandex.net/v1/disk/public/resources/download?'\n",
        "public_key = 'https://disk.yandex.ru/d/wYoDsEC4_Lz5Gw'\n",
        "\n",
        "# Получаем загрузочную ссылку\n",
        "final_url = base_url + urlencode(dict(public_key=public_key))\n",
        "response = requests.get(final_url)\n",
        "download_url = response.json()['href']\n",
        "\n",
        "# Загружаем файл и сохраняем его\n",
        "download_response = requests.get(download_url)\n",
        "downloaded_file_path = '/content/tuner_dir.rar'\n",
        "\n",
        "with open(downloaded_file_path, 'wb') as f:\n",
        "    f.write(download_response.content)\n",
        "\n",
        "# Разархивируем файл\n",
        "extracted_path = '/content/'\n",
        "\n",
        "# Проверяем, существует ли папка для распаковки, и создаем ее при необходимости\n",
        "if not os.path.exists(extracted_path):\n",
        "    os.makedirs(extracted_path)\n",
        "\n",
        "# Распаковываем скачанный архив\n",
        "patoolib.extract_archive(downloaded_file_path, outdir=extracted_path)\n",
        "\n",
        "# Удаляем изначальный архив\n",
        "os.remove(downloaded_file_path)"
      ],
      "metadata": {
        "colab": {
          "base_uri": "https://localhost:8080/"
        },
        "id": "xmwBjr0BxlK8",
        "outputId": "86be5160-7d59-4eae-f6fe-d66ddc2ee2ca"
      },
      "execution_count": 12,
      "outputs": [
        {
          "output_type": "stream",
          "name": "stderr",
          "text": [
            "INFO patool: Extracting /content/tuner_dir.rar ...\n",
            "INFO:patool:Extracting /content/tuner_dir.rar ...\n",
            "INFO patool: running /usr/bin/7z x -o/content/ -- /content/tuner_dir.rar\n",
            "INFO:patool:running /usr/bin/7z x -o/content/ -- /content/tuner_dir.rar\n",
            "INFO patool:     with input=''\n",
            "INFO:patool:    with input=''\n",
            "INFO patool: ... /content/tuner_dir.rar extracted to `/content/'.\n",
            "INFO:patool:... /content/tuner_dir.rar extracted to `/content/'.\n"
          ]
        }
      ]
    },
    {
      "cell_type": "markdown",
      "source": [
        "# Топ 5 моделей из 24"
      ],
      "metadata": {
        "id": "zeRVUlF0YSg_"
      }
    },
    {
      "cell_type": "code",
      "source": [
        "all_trials = tuner.oracle.get_best_trials(num_trials=64)\n",
        "sorted_trials = sorted(all_trials, key=lambda x: x.score, reverse=True)\n",
        "\n",
        "# Вывод топ-5 моделей\n",
        "for i, trial in enumerate(sorted_trials[:5]):\n",
        "    print(f\"Model {i + 1}: Score - {trial.score}, Hyperparameters - {trial.hyperparameters.values}, ID - {trial.trial_id}\")\n",
        "\n",
        "    top_model = tuner.get_best_models(num_models=5)[i]\n",
        "    top_model.evaluate(X_test, y_test)\n"
      ],
      "metadata": {
        "colab": {
          "base_uri": "https://localhost:8080/"
        },
        "id": "pPWIeFUCXTwz",
        "outputId": "c212eb66-756b-427d-a666-6c7737eba46f"
      },
      "execution_count": 13,
      "outputs": [
        {
          "output_type": "stream",
          "name": "stdout",
          "text": [
            "Model 1: Score - 0.7293999791145325, Hyperparameters - {'conv1_filters': 64, 'conv2_filters': 256, 'dense_units': 256}, ID - 13\n",
            "313/313 [==============================] - 2s 4ms/step - loss: 0.8319 - accuracy: 0.7249\n",
            "Model 2: Score - 0.7250999808311462, Hyperparameters - {'conv1_filters': 96, 'conv2_filters': 256, 'dense_units': 256}, ID - 16\n",
            "313/313 [==============================] - 1s 3ms/step - loss: 0.8804 - accuracy: 0.7186\n",
            "Model 3: Score - 0.7231000065803528, Hyperparameters - {'conv1_filters': 96, 'conv2_filters': 256, 'dense_units': 192}, ID - 23\n",
            "313/313 [==============================] - 1s 4ms/step - loss: 0.8439 - accuracy: 0.7123\n",
            "Model 4: Score - 0.7222999930381775, Hyperparameters - {'conv1_filters': 64, 'conv2_filters': 256, 'dense_units': 128}, ID - 19\n",
            "313/313 [==============================] - 1s 3ms/step - loss: 0.8519 - accuracy: 0.7117\n",
            "Model 5: Score - 0.7210000157356262, Hyperparameters - {'conv1_filters': 128, 'conv2_filters': 256, 'dense_units': 256}, ID - 05\n",
            "313/313 [==============================] - 2s 5ms/step - loss: 0.9123 - accuracy: 0.7119\n"
          ]
        }
      ]
    },
    {
      "cell_type": "markdown",
      "source": [
        "# Проверяем на деле лучшую модель (в Index пишем номер картинки из тестового датасета которую хотим проверить)"
      ],
      "metadata": {
        "id": "odSq82nr79rq"
      }
    },
    {
      "cell_type": "code",
      "source": [
        "#Выбрана модель 4, поскольку она показала самую высокую точност на тестовой выборке\n",
        "best_model = tuner.get_best_models(num_models=5)[3]"
      ],
      "metadata": {
        "id": "HTi5rCrQ9Qmz"
      },
      "execution_count": 14,
      "outputs": []
    },
    {
      "cell_type": "code",
      "source": [
        "best_model.evaluate(X_test, y_test)"
      ],
      "metadata": {
        "colab": {
          "base_uri": "https://localhost:8080/"
        },
        "id": "tbc_rxuFl9WZ",
        "outputId": "8c89d30d-21c3-411a-ad9b-c3017bfb6ccc"
      },
      "execution_count": 15,
      "outputs": [
        {
          "output_type": "stream",
          "name": "stdout",
          "text": [
            "313/313 [==============================] - 1s 4ms/step - loss: 0.8519 - accuracy: 0.7117\n"
          ]
        },
        {
          "output_type": "execute_result",
          "data": {
            "text/plain": [
              "[0.8518805503845215, 0.7117000222206116]"
            ]
          },
          "metadata": {},
          "execution_count": 15
        }
      ]
    },
    {
      "cell_type": "code",
      "source": [
        "y_pred = best_model.predict(X_test)"
      ],
      "metadata": {
        "id": "ajGr6ug2USuq",
        "colab": {
          "base_uri": "https://localhost:8080/"
        },
        "outputId": "cf36fd27-4337-45c7-818a-8f057503ca62"
      },
      "execution_count": 16,
      "outputs": [
        {
          "output_type": "stream",
          "name": "stdout",
          "text": [
            "313/313 [==============================] - 1s 3ms/step\n"
          ]
        }
      ]
    },
    {
      "cell_type": "code",
      "source": [
        "y_classes = [np.argmax(element) for element in y_pred]"
      ],
      "metadata": {
        "id": "3It_snl9Ukiv"
      },
      "execution_count": 17,
      "outputs": []
    },
    {
      "cell_type": "code",
      "source": [
        "index = 100\n",
        "plot_sample(X_test, y_test, index)\n",
        "print('Обученная модель говорит, что это', classes[y_classes[index]])"
      ],
      "metadata": {
        "colab": {
          "base_uri": "https://localhost:8080/",
          "height": 254
        },
        "id": "IxFqSJdcUwxg",
        "outputId": "cd973a74-8f67-4ab1-c4c8-224143eff3e6"
      },
      "execution_count": 19,
      "outputs": [
        {
          "output_type": "stream",
          "name": "stdout",
          "text": [
            "Обученная модель говорит, что это олень\n"
          ]
        },
        {
          "output_type": "display_data",
          "data": {
            "text/plain": [
              "<Figure size 1500x200 with 1 Axes>"
            ],
            "image/png": "[encoded data removed]"
          },
          "metadata": {}
        }
      ]
    }
  ]
}